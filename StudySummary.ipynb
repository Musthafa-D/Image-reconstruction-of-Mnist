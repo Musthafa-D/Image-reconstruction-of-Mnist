{
 "cells": [
  {
   "cell_type": "code",
   "execution_count": null,
   "id": "4c3cb161",
   "metadata": {},
   "outputs": [],
   "source": [
    "# parameters\n",
    "study_location = \"\""
   ]
  },
  {
   "cell_type": "code",
   "execution_count": null,
   "id": "3585abe1",
   "metadata": {},
   "outputs": [],
   "source": [
    "import torch\n",
    "import optuna\n",
    "import plotly\n",
    "import plotly.io as pio\n",
    "pio.renderers.default = \"notebook\"\n",
    "\n",
    "Study = torch.load(study_location)\n",
    "print(Study.best_trial)\n",
    "print(Study.best_params)"
   ]
  },
  {
   "cell_type": "code",
   "execution_count": null,
   "id": "040b9714",
   "metadata": {},
   "outputs": [],
   "source": [
    "fig = optuna.visualization.plot_slice(Study)\n",
    "fig.show()"
   ]
  },
  {
   "cell_type": "code",
   "execution_count": null,
   "id": "a09013a0",
   "metadata": {},
   "outputs": [],
   "source": [
    "fig = optuna.visualization.plot_param_importances(Study)\n",
    "fig.show()"
   ]
  },
  {
   "cell_type": "code",
   "execution_count": null,
   "id": "1ef8e274",
   "metadata": {},
   "outputs": [],
   "source": [
    "fig = optuna.visualization.plot_parallel_coordinate(Study)\n",
    "fig.show()"
   ]
  },
  {
   "cell_type": "code",
   "execution_count": null,
   "id": "5f7c792b",
   "metadata": {},
   "outputs": [],
   "source": [
    "fig = optuna.visualization.plot_optimization_history(Study)\n",
    "fig.show()"
   ]
  }
 ],
 "metadata": {
  "kernelspec": {
   "display_name": "Python 3 (Spyder)",
   "language": "python3",
   "name": "python3"
  },
  "language_info": {
   "codemirror_mode": {
    "name": "ipython",
    "version": 3
   },
   "file_extension": ".py",
   "mimetype": "text/x-python",
   "name": "python",
   "nbconvert_exporter": "python",
   "pygments_lexer": "ipython3",
   "version": "3.7.11"
  }
 },
 "nbformat": 4,
 "nbformat_minor": 5
}
